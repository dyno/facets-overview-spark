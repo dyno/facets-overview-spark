{
 "cells": [
  {
   "cell_type": "code",
   "execution_count": 11,
   "metadata": {},
   "outputs": [],
   "source": [
    "from os.path import expanduser\n",
    "\n",
    "pb_txt = \"../src/test/resources/data/stats.pb.txt\"\n",
    "pb_txt = \"../ammonites/census_stats.txt\"\n",
    "\n",
    "with open (pb_txt, \"rb\") as f:\n",
    "    content= f.read()\n",
    "protostr = content.decode(\"utf-8\")"
   ]
  },
  {
   "cell_type": "code",
   "execution_count": 12,
   "metadata": {},
   "outputs": [],
   "source": [
    "# https://github.com/PAIR-code/facets#using-the-rebuilt-visualizations-in-a-jupyter-notebook\n",
    "href_import = \"/nbextensions/facets-dist/facets-jupyter.html\"\n",
    "\n",
    "HTML_TEMPLATE = \"\"\"\n",
    "<script src=\"https://cdnjs.cloudflare.com/ajax/libs/webcomponentsjs/1.3.3/webcomponents-lite.js\"></script>\n",
    "<link rel=\"import\" href=\"%s\" >\n",
    "        <facets-overview id=\"elem\"></facets-overview>\n",
    "        <script>\n",
    "          document.querySelector(\"#elem\").protoInput = \"{protostr}\";\n",
    "        </script>\"\"\" % (href_import)\n",
    "\n",
    "html = HTML_TEMPLATE.format(protostr=protostr)"
   ]
  },
  {
   "cell_type": "code",
   "execution_count": 13,
   "metadata": {},
   "outputs": [
    {
     "data": {
      "text/html": [
       "\n",
       "<script src=\"https://cdnjs.cloudflare.com/ajax/libs/webcomponentsjs/1.3.3/webcomponents-lite.js\"></script>\n",
       "<link rel=\"import\" href=\"/nbextensions/facets-dist/facets-jupyter.html\" >\n",
       "        <facets-overview id=\"elem\"></facets-overview>\n",
       "        <script>\n",
       "          document.querySelector(\"#elem\").protoInput = \"CsoLCgZjZW5zdXMQqgIaIgoGUmVnaW9uEAIiFgoDCKoCEAEaDRICQ0EZAAAAAACgckAaUQoKQ2xhc3NHcmFkZRACIkEKAwiqAhAEGgwSATcZAAAAAABAWUAaDRICMTIZAAAAAAAAU0AaDRICMTEZAAAAAACAUEAaDBIBORkAAAAAAIBLQBo5CgZHZW5kZXIQAiItCgUIqAIQAhACGg8SBE1hbGUZAAAAAAAgaEAaERIGRmVtYWxlGQAAAAAAwFlAGl8KBkhhbmRlZBACIlMKBQioAhACEAMaFxIMUmlnaHQtSGFuZGVkGQAAAAAAwHBAGhYSC0xlZnQtSGFuZGVkGQAAAAAAACxAGhcSDEFtYmlkZXh0cm91cxkAAAAAAAAsQBo6CglIZWlnaHRfY20QARorCgUIjwIQGxHoM+6gyzVkQBkESmWbvv04QCkAAAAAAAA4QDnsUbgehatqQBqxAQoQTGFuZ3VhZ2VzX3Nwb2tlbhACIpoBCgUInwIQCxAKGgwSATIZAAAAAABgaUAaDBIBMRkAAAAAAABNQBoMEgEzGQAAAAAAAC5AGgwSATAZAAAAAAAAFEAaDBIBNBkAAAAAAADwPxoNEgIxMBkAAAAAAADwPxoQEgU0NDQ0NBkAAAAAAADwPxoMEgE2GQAAAAAAAPA/GgwSATUZAAAAAAAA8D8aDBIBOBkAAAAAAADwPxqBAgoLQmlydGhfbW9udGgQAiLvAQoFCNUBEFUQDBoOEgNNYXkZAAAAAAAAOEAaEBIFQXByaWwZAAAAAAAAN0AaFBIJU2VwdGVtYmVyGQAAAAAAADNAGhISB09jdG9iZXIZAAAAAAAAM0AaDxIESnVuZRkAAAAAAAAyQBoTEghGZWJydWFyeRkAAAAAAAAyQBoTEghEZWNlbWJlchkAAAAAAAAxQBoQEgVNYXJjaBkAAAAAAAAxQBoPEgRKdWx5GQAAAAAAADFAGhISB0phbnVhcnkZAAAAAAAALkAaExIITm92ZW1iZXIZAAAAAAAALkAaERIGQXVndXN0GQAAAAAAACZAGmgKD0Zhdm9yaXRlX1NlYXNvbhACIlMKBQjVARBVEAQaERIGU3VtbWVyGQAAAAAAAFZAGhESBldpbnRlchkAAAAAAABSQBoREgZTcHJpbmcZAAAAAAAAQUAaDxIERmFsbBkAAAAAAAAzQBo7CglBbGxlcmdpZXMQAiIsCgUI1AEQVhACGhASBWZhbHNlGQAAAAAAAGJAGg8SBHRydWUZAAAAAAAAUUAaPAoKVmVnZXRhcmlhbhACIiwKBQjUARBWEAIaEBIFZmFsc2UZAAAAAADgaEAaDxIEdHJ1ZRkAAAAAAAAqQBrCAgoORmF2b3JpdGVfTXVzaWMQAiKtAgoFCL4BEGwQDRoWEgtSYXAvSGlwIGhvcBkAAAAAAIBVQBoQEgVPdGhlchkAAAAAAABKQBoOEgNQb3AZAAAAAAAAJkAaIRIWUmh5dGhtIGFuZCBibHVlcyAoUiZCKRkAAAAAAAAgQBoUEglQdW5rIHJvY2sZAAAAAAAAIEAaERIGUmVnZ2FlGQAAAAAAABhAGhgSDVJvY2sgYW5kIHJvbGwZAAAAAAAAFEAaDxIESmF6ehkAAAAAAAAUQBoWEgtIZWF2eSBtZXRhbBkAAAAAAAAIQBoREgZHb3NwZWwZAAAAAAAAAEAaHBIRVGVjaG5vL0VsZWN0cm9uaWMZAAAAAAAAAEAaEhIHQ291bnRyeRkAAAAAAADwPxoUEglDbGFzc2ljYWwZAAAAAAAA8D8aiwEKClN1cGVycG93ZXIQAiJ7CgUIvQEQbRAFGhYSC0ZyZWV6ZSB0aW1lGQAAAAAAAFJAGhQSCVRlbGVwYXRoeRkAAAAAAABFQBoXEgxJbnZpc2liaWxpdHkZAAAAAACAQkAaGRIOU3VwZXIgc3RyZW5ndGgZAAAAAAAANEAaDhIDRmx5GQAAAAAAADJA\";\n",
       "        </script>"
      ],
      "text/plain": [
       "<IPython.core.display.HTML object>"
      ]
     },
     "metadata": {},
     "output_type": "display_data"
    }
   ],
   "source": [
    "from IPython.display import display, HTML\n",
    "display(HTML(html))"
   ]
  },
  {
   "cell_type": "code",
   "execution_count": 5,
   "metadata": {},
   "outputs": [
    {
     "data": {
      "text/html": [
       "\n",
       "        <iframe\n",
       "            width=\"1200\"\n",
       "            height=\"800\"\n",
       "            src=\"/notebooks/notebooks/tmp.html\"\n",
       "            frameborder=\"0\"\n",
       "            allowfullscreen\n",
       "        ></iframe>\n",
       "        "
      ],
      "text/plain": [
       "<IPython.lib.display.IFrame at 0x1200eaba8>"
      ]
     },
     "metadata": {},
     "output_type": "display_data"
    }
   ],
   "source": [
    "# this is a workaround cell if running in jupyterlab\n",
    "# https://stackoverflow.com/questions/54442858/javascript-output-is-disabled-in-jupyterlab\n",
    "# seems like needs  --NotebookApp.allow_origin=\"*\"\n",
    "\n",
    "from IPython.display import display, IFrame\n",
    "from os.path import join\n",
    "\n",
    "# cwd is notebooks\n",
    "html_file = \"tmp.html\"\n",
    "with open(html_file, \"w\") as out:\n",
    "    out.write(html)\n",
    "\n",
    "from IPython.display import IFrame    \n",
    "iframe = IFrame(src=join(\"/notebooks/notebooks\", html_file), width=1200, height=800)\n",
    "display(iframe)"
   ]
  },
  {
   "cell_type": "code",
   "execution_count": null,
   "metadata": {},
   "outputs": [],
   "source": []
  }
 ],
 "metadata": {
  "kernelspec": {
   "display_name": "python(facets)",
   "language": "python",
   "name": "python-facets"
  },
  "language_info": {
   "codemirror_mode": {
    "name": "ipython",
    "version": 3
   },
   "file_extension": ".py",
   "mimetype": "text/x-python",
   "name": "python",
   "nbconvert_exporter": "python",
   "pygments_lexer": "ipython3",
   "version": "3.6.9"
  }
 },
 "nbformat": 4,
 "nbformat_minor": 4
}
